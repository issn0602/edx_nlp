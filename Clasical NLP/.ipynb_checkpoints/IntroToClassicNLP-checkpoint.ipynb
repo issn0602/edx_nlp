{
 "cells": [
  {
   "cell_type": "markdown",
   "metadata": {},
   "source": [
    "# Intorduction to Classical NLP"
   ]
  },
  {
   "cell_type": "code",
   "execution_count": 20,
   "metadata": {},
   "outputs": [],
   "source": [
    "import nltk # NLP Package"
   ]
  },
  {
   "cell_type": "code",
   "execution_count": 21,
   "metadata": {},
   "outputs": [
    {
     "name": "stdout",
     "output_type": "stream",
     "text": [
      "['c', 'a', 's', 'h']\n",
      "['name', 'no.']\n",
      "['lion', 'Lion']\n",
      "Hxx! I xxxx xxxx xxxxx xxxxx...\n"
     ]
    }
   ],
   "source": [
    "import re # regular expressions\n",
    "\n",
    "op1 = re.findall( \"[a-z]\",\"$34.33 cash.\" ) # find any characters in 1-z\n",
    "print(op1)\n",
    "\n",
    "op2 = re.findall( \"name|no.\", \"My name : Shankar, My no. is : 9199317476 \") # finda name or no.\n",
    "print(op2)\n",
    "\n",
    "op3 = re.findall( \"([Ll]ion)s?\", \"Give it to the lion or Lions.\") # ? means s is optional\n",
    "print(op3)\n",
    "\n",
    "op4 = re.sub(\"[a-z]\", \"x\", \"Hey! I know this regex stuff...\")\n",
    "print(op4)"
   ]
  },
  {
   "cell_type": "code",
   "execution_count": 38,
   "metadata": {
    "scrolled": true
   },
   "outputs": [
    {
     "name": "stdout",
     "output_type": "stream",
     "text": [
      "gutenberg book ids. : ['austen-emma.txt', 'austen-persuasion.txt', 'austen-sense.txt', 'bible-kjv.txt', 'blake-poems.txt', 'bryant-stories.txt', 'burgess-busterbrown.txt', 'carroll-alice.txt', 'chesterton-ball.txt', 'chesterton-brown.txt', 'chesterton-thursday.txt', 'edgeworth-parents.txt', 'melville-moby_dick.txt', 'milton-paradise.txt', 'shakespeare-caesar.txt', 'shakespeare-hamlet.txt', 'shakespeare-macbeth.txt', 'whitman-leaves.txt']\n",
      "['[', 'Alice', \"'\", 's', 'Adventures', 'in', 'Wonderland', 'by', 'Lewis', 'Carroll', '1865', ']', 'CHAPTER', 'I', '.', 'Down', 'the', 'Rabbit', '-', 'Hole', 'Alice', 'was', 'beginning', 'to', 'get', 'very', 'tired', 'of', 'sitting', 'by', 'her', 'sister', 'on', 'the', 'bank', ',', 'and', 'of', 'having', 'nothing', 'to', 'do', ':', 'once', 'or', 'twice', 'she', 'had', 'peeped', 'into', 'the', 'book', 'her', 'sister', 'was', 'reading', ',', 'but', 'it', 'had', 'no', 'pictures', 'or', 'conversations', 'in', 'it', ',', \"'\", 'and', 'what', 'is', 'the', 'use', 'of', 'a', 'book', \",'\", 'thought', 'Alice', \"'\", 'without', 'pictures', 'or', 'conversation', \"?'\", 'So', 'she', 'was', 'considering', 'in', 'her', 'own', 'mind', '(', 'as', 'well', 'as', 'she', 'could', ',']\n"
     ]
    }
   ],
   "source": [
    "from nltk.corpus import gutenberg\n",
    "\n",
    "ids = gutenberg.fileids()\n",
    "print( \"gutenberg book ids. :\",ids)\n",
    "\n",
    "alice = gutenberg.words(\"carroll-alice.txt\") # Alice in wonderland\n",
    "print(alice[0:100])"
   ]
  },
  {
   "cell_type": "code",
   "execution_count": 40,
   "metadata": {},
   "outputs": [
    {
     "name": "stdout",
     "output_type": "stream",
     "text": [
      "16967\n",
      "['SCENE', '1', ':', '[', 'wind', ']', '[', 'clop', 'clop', 'clop', ']', 'KING', 'ARTHUR', ':', 'Whoa', 'there', '!', '[', 'clop', 'clop', 'clop', ']', 'SOLDIER', '#', '1', ':', 'Halt', '!', 'Who', 'goes', 'there', '?', 'ARTHUR', ':', 'It', 'is', 'I', ',', 'Arthur', ',', 'son', 'of', 'Uther', 'Pendragon', ',', 'from', 'the', 'castle', 'of', 'Camelot', '.', 'King', 'of', 'the', 'Britons', ',', 'defeator', 'of', 'the', 'Saxons', ',', 'sovereign', 'of', 'all', 'England', '!', 'SOLDIER', '#', '1', ':', 'Pull', 'the', 'other', 'one', '!', 'ARTHUR', ':', 'I', 'am', ',', '...', 'and', 'this', 'is', 'my', 'trusty', 'servant', 'Patsy', '.', 'We', 'have', 'ridden', 'the', 'length', 'and', 'breadth', 'of', 'the', 'land', 'in']\n"
     ]
    }
   ],
   "source": [
    "from nltk.corpus import webtext\n",
    "\n",
    "grail = webtext.words(\"grail.txt\")\n",
    "print(len(grail))\n",
    "\n",
    "print(grail[0:100])"
   ]
  },
  {
   "cell_type": "markdown",
   "metadata": {},
   "source": [
    "Tokenization"
   ]
  },
  {
   "cell_type": "code",
   "execution_count": 51,
   "metadata": {},
   "outputs": [
    {
     "name": "stdout",
     "output_type": "stream",
     "text": [
      "['the', 'man', 'ran', 'after', 'it']\n",
      "['the', 'table', 'down', 'the']\n",
      "['the', 'table', 'down', 'there']\n",
      "['The table down there.', 'The table down there ?', 'Yes down there!']\n"
     ]
    }
   ],
   "source": [
    "def tokenize(word,dict):\n",
    "    \n",
    "    if len(dict) == 0 or len(word) == 0:\n",
    "        return word\n",
    "    \n",
    "    i = 0\n",
    "    s = \"\"\n",
    "    res = []\n",
    "    while i < len(word):\n",
    "        s += word[i]\n",
    "        i+=1\n",
    "        if s in dict:\n",
    "            res.append(s)\n",
    "            s = \"\"\n",
    "    \n",
    "    return res\n",
    "\n",
    "dict = [ \"man\", \"table\", \"the\", \"before\", \"after\", \"where\", \"there\", \"bled\", \"said\", \"lead\", \"man\", \"her\", \"down\", \"the\", \"ran\", \"it\", \"theta\" ]\n",
    "print( tokenize( \"themanranafterit\", dict ) )\n",
    "print( tokenize( \"thetabledownthere\", dict ) )\n",
    "\n",
    "print(nltk.word_tokenize(\"the table down there\"))\n",
    "print(nltk.sent_tokenize(\"The table down there. The table down there ? Yes down there!\"))"
   ]
  },
  {
   "cell_type": "markdown",
   "metadata": {},
   "source": [
    "Stopwords"
   ]
  },
  {
   "cell_type": "code",
   "execution_count": 72,
   "metadata": {},
   "outputs": [
    {
     "name": "stdout",
     "output_type": "stream",
     "text": [
      "test\n"
     ]
    }
   ],
   "source": [
    "from nltk.corpus import stopwords\n",
    "stopwords = stopwords.words(\"english\")\n",
    "\n",
    "def remstopwords(text,stopwords):\n",
    "    res = \"\".join([word for word in text.split() if word not in stopwords ])\n",
    "    return res\n",
    "\n",
    "print(remstopwords(\"this is a test\",stopwords))"
   ]
  },
  {
   "cell_type": "markdown",
   "metadata": {},
   "source": [
    "Markdown"
   ]
  },
  {
   "cell_type": "code",
   "execution_count": null,
   "metadata": {},
   "outputs": [],
   "source": []
  }
 ],
 "metadata": {
  "kernelspec": {
   "display_name": "Python 3",
   "language": "python",
   "name": "python3"
  },
  "language_info": {
   "codemirror_mode": {
    "name": "ipython",
    "version": 3
   },
   "file_extension": ".py",
   "mimetype": "text/x-python",
   "name": "python",
   "nbconvert_exporter": "python",
   "pygments_lexer": "ipython3",
   "version": "3.6.4"
  }
 },
 "nbformat": 4,
 "nbformat_minor": 2
}
